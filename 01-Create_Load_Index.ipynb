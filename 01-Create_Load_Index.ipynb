{
  "cells": [
    {
      "cell_type": "markdown",
      "metadata": {
        "nteract": {
          "transient": {
            "deleting": false
          }
        }
      },
      "source": [
        "## Setup & Configuration"
      ]
    },
    {
      "cell_type": "markdown",
      "metadata": {
        "nteract": {
          "transient": {
            "deleting": false
          }
        }
      },
      "source": [
        "### Prerequisites\n",
        "\n",
        "**Azure Cognitive Search**\n",
        "\n",
        "Details for creating an Azure Cognitive Search Service are available in [Create an Azure Cognitive Search service in the portal](https://learn.microsoft.com/en-us/azure/search/search-create-service-portal).  Once your service is created return to this notebook for creating and populating the index.\n",
        "\n",
        "\n",
        "**Azure OpenAI**\n",
        "\n",
        "You must first have setup an Azure OpenAI Service - for instructions to set this up, please see [Create and deploy an Azure OpenAI Service resource](https://learn.microsoft.com/en-us/azure/cognitive-services/openai/how-to/create-resource?pivots=web-portal).  \n",
        "\n",
        "Two types of large language models are used for the document chatbot system and must be deployed in your Azure OpenAI Service: <br/>\n",
        "1) Similarity [Embeddings](https://learn.microsoft.com/en-us/azure/cognitive-services/openai/concepts/understand-embeddings) model designed for creating the embeddings used for finding similarity between snippets of text.<br/>\n",
        "2) [GPT-35-Turbo or GPT-4](https://learn.microsoft.com/en-us/azure/cognitive-services/openai/how-to/chatgpt?pivots=programming-language-chat-completions) model for the conversational interface <br/>\n",
        "\n",
        "This example was built using the **text-embedding-ada-002** model for similarity embeddings and **gpt-35-turbo** for the conversational functionality. \n",
        "\n",
        "Before continuing with this notebook, confirm that deployments exist for these types of models in your Azure OpenAI service.  "
      ]
    },
    {
      "cell_type": "markdown",
      "metadata": {
        "nteract": {
          "transient": {
            "deleting": false
          }
        }
      },
      "source": [
        "### Environment Setup"
      ]
    },
    {
      "cell_type": "code",
      "execution_count": 2,
      "metadata": {
        "gather": {
          "logged": 1693260377045
        },
        "jupyter": {
          "outputs_hidden": false,
          "source_hidden": false
        },
        "nteract": {
          "transient": {
            "deleting": false
          }
        }
      },
      "outputs": [],
      "source": [
        "# Set this up to support Vector search \n",
        "#pip install azure-search-documents --pre  [does not always work]\n",
        "\n",
        "#pip install azure-search-documents==11.4.0b8 [this version confirmed to work]\n",
        "\n",
        "#pip install openai"
      ]
    },
    {
      "cell_type": "code",
      "execution_count": 3,
      "metadata": {
        "gather": {
          "logged": 1693265271480
        }
      },
      "outputs": [],
      "source": [
        "import json\n",
        "import requests\n",
        "import os\n",
        "from tenacity import retry, wait_random_exponential, stop_after_attempt  \n",
        "\n",
        "from azure.core.credentials import AzureKeyCredential\n",
        "\n",
        "import openai"
      ]
    },
    {
      "cell_type": "markdown",
      "metadata": {
        "nteract": {
          "transient": {
            "deleting": false
          }
        }
      },
      "source": [
        "\n",
        "Reference [Official Azure Vector Search Documentation Sample](https://github.com/Azure/cognitive-search-vector-pr/blob/main/demo-python/code/azure-search-vector-python-sample.ipynb)"
      ]
    },
    {
      "cell_type": "code",
      "execution_count": 4,
      "metadata": {
        "gather": {
          "logged": 1693265272724
        },
        "jupyter": {
          "outputs_hidden": false,
          "source_hidden": false
        },
        "nteract": {
          "transient": {
            "deleting": false
          }
        }
      },
      "outputs": [],
      "source": [
        "from azure.search.documents import SearchClient  \n",
        "from azure.search.documents.indexes import SearchIndexClient  \n",
        "from azure.search.documents.models import Vector  \n",
        "from azure.search.documents.indexes.models import (  \n",
        "    SearchIndex,  \n",
        "    SearchField,  \n",
        "    SearchFieldDataType,  \n",
        "    SimpleField,  \n",
        "    SearchableField,  \n",
        "    SearchIndex,  \n",
        "    SemanticConfiguration,  \n",
        "    PrioritizedFields,  \n",
        "    SemanticField,  \n",
        "    SearchField,  \n",
        "    SemanticSettings,  \n",
        "    VectorSearch,  \n",
        "    HnswVectorSearchAlgorithmConfiguration,  \n",
        ")  "
      ]
    },
    {
      "cell_type": "markdown",
      "metadata": {},
      "source": [
        "## Parameter Configuration\n",
        "\n",
        "Edit the config_TEMPLATE.json file with the information about the services created in the Prerequisite step, then rename the file to config.json.\n",
        "\n",
        "~~~\n",
        "{\n",
        "    \"OPENAI_API_BASE\": \"https://YOUR_AOAI_SERVICE.openai.azure.com/\",\n",
        "    \"OPENAI_API_KEY\":\"YOUR_AOAi_KEY\",\n",
        "    \"OPENAI_API_VERSION\":\"2023-05-15\",\n",
        "    \"GPT_MODEL\":\"YOUR_GPT_MODEL_DEPLOYMENT\",\n",
        "    \"EMBEDDING_MODEL\":\"YOUR_EMBEDDING_MODEL_DEPLOYMENT\",\n",
        "    \"AZSEARCH_KEY\": \"YOUR_AZURE_COG_SEARCH_KEY\",\n",
        "    \"AZSEARCH_INDEX_NAME\": \"YOUR_COG_SEARCH_INDEX_NAME\",\n",
        "    \"AZSEARCH_ENDPOINT\": \"https://YOUR_SEARCH.search.windows.net/\",\n",
        "    \"AZSEARCH_API_VERSION\": \"2023-07-01-preview\"\n",
        "}\n",
        "~~~\n",
        "\n",
        "**Azure OpenAI Configuration**\n",
        "\n",
        "Use the [Azure Portal](https://portal.azure.com) to navigate to your Azure OpenAI Service.\n",
        "\n",
        "1. Under \"Resource Management\" -> \"Keys and Endpoints\" use\"Endpoint\" value for OPENAI_API_BASE. \n",
        "2. Also under \"Resource Management\" -> \"Keys and Endpoints\" use one of the \"Keys\" values for OPENAI_API_KEY \n",
        "3. The versions supported for Azure OpenAI API are listed in [Chat completions API Reference](https://learn.microsoft.com/en-us/azure/cognitive-services/openai/reference#chat-completions).  The \"2023-05-15\" version was used for this example.\n",
        "4. Use the **deployment names** for the EMBEDDING_MODEL and GPT_MODEL you deployed in your Azure OpenAI Service.\n",
        "\n",
        "\n",
        "**Azure Cognitive Search Configuration** \n",
        "\n",
        "Use the [Azure Portal](https://portal.azure.com) to navigate to your Cognitive Search service.  \n",
        "\n",
        "1. On the overview page, you will find the **Url** which is the \"AZSEARCH_ENDPOINT\" \n",
        "2. Under \"Settings\" -> \"Keys\" use either the Primary or Secondary admin key as your \"AZSEARCH_KEY\".\n",
        "3. The \"AZSEARCH_INDEX_NAME\" is the name of the index you want to create in Cognitive Search.  \n",
        "4. In order to use Vector Search, you will want to use the \"AZSEARCH_API_VERSION\" of \"2023-07-01-preview\", as of August 2023. \n",
        "\n",
        "\n",
        "The next step loads the configurations from config.json file to setup the values to be used within the notebook."
      ]
    },
    {
      "cell_type": "code",
      "execution_count": 5,
      "metadata": {
        "gather": {
          "logged": 1693265273710
        },
        "jupyter": {
          "outputs_hidden": false,
          "source_hidden": false
        },
        "nteract": {
          "transient": {
            "deleting": false
          }
        }
      },
      "outputs": [],
      "source": [
        "# Load config values\n",
        "with open(r'config.json') as config_file:\n",
        "    config_details = json.load(config_file)\n",
        "\n",
        "# Azure OpenAI Resources\n",
        "openai_api_base = config_details['OPENAI_API_BASE']\n",
        "openai_api_key = config_details[\"OPENAI_API_KEY\"]\n",
        "openai_api_version = config_details['OPENAI_API_VERSION']\n",
        "\n",
        "chat_model_deployment = config_details['GPT_MODEL']\n",
        "embeddings_model_deployment = config_details['EMBEDDING_MODEL']\n",
        "\n",
        "# Azure Cognitive Search Resources\n",
        "AZSEARCH_KEY = config_details['AZSEARCH_KEY']\n",
        "AZSEARCH_ENDPOINT= config_details['AZSEARCH_ENDPOINT']\n",
        "AZSEARCH_INDEX_NAME = config_details['AZSEARCH_INDEX_NAME']\n",
        "AZSEARCH_API_VERSION = config_details['AZSEARCH_API_VERSION']"
      ]
    },
    {
      "cell_type": "code",
      "execution_count": 6,
      "metadata": {
        "gather": {
          "logged": 1693265274600
        },
        "jupyter": {
          "outputs_hidden": false,
          "source_hidden": false
        },
        "nteract": {
          "transient": {
            "deleting": false
          }
        }
      },
      "outputs": [],
      "source": [
        "openai.api_base = openai_api_base\n",
        "openai.api_key = openai_api_key\n",
        "openai.api_version = openai_api_version\n",
        "openai.api_type = \"azure\""
      ]
    },
    {
      "cell_type": "code",
      "execution_count": 13,
      "metadata": {
        "gather": {
          "logged": 1693265274936
        },
        "jupyter": {
          "outputs_hidden": false,
          "source_hidden": false
        },
        "nteract": {
          "transient": {
            "deleting": false
          }
        }
      },
      "outputs": [],
      "source": [
        "#Establish for connectivity to Azure Cognitive Search throughout\n",
        "credential = AzureKeyCredential(AZSEARCH_KEY)"
      ]
    },
    {
      "cell_type": "markdown",
      "metadata": {
        "nteract": {
          "transient": {
            "deleting": false
          }
        }
      },
      "source": [
        "## Create Index\n",
        "\n",
        "For more information on the settings for creating a search index see and details at [Create an index in Azure Cognitive Search](https://learn.microsoft.com/en-us/azure/search/search-how-to-create-search-index?tabs=index-other-sdks) and the Vector Configuration at [Add a vector field to the fields collection](https://learn.microsoft.com/en-us/azure/search/vector-search-how-to-create-index?tabs=portal-add-field%2Cpull%2Crest-check-index#add-a-vector-field-to-the-fields-collection).\n",
        "\n",
        "See the [python SDK reference](https://learn.microsoft.com/en-us/python/api/azure-search-documents/azure.search.documents.indexes.searchindexclient?view=azure-python)."
      ]
    },
    {
      "cell_type": "code",
      "execution_count": 14,
      "metadata": {
        "gather": {
          "logged": 1693265275792
        },
        "jupyter": {
          "outputs_hidden": false,
          "source_hidden": false
        },
        "nteract": {
          "transient": {
            "deleting": false
          }
        }
      },
      "outputs": [],
      "source": [
        "# Delete index if needed to recreate it.\n",
        "\n",
        "index_client.delete_index(AZSEARCH_INDEX_NAME)"
      ]
    },
    {
      "cell_type": "code",
      "execution_count": 15,
      "metadata": {
        "gather": {
          "logged": 1693260644805
        },
        "jupyter": {
          "outputs_hidden": false,
          "source_hidden": false
        },
        "nteract": {
          "transient": {
            "deleting": false
          }
        }
      },
      "outputs": [
        {
          "name": "stdout",
          "output_type": "stream",
          "text": [
            " azure-services-documentation created\n"
          ]
        }
      ],
      "source": [
        "# Create a search index\n",
        "index_client = SearchIndexClient(\n",
        "    endpoint=AZSEARCH_ENDPOINT, credential=credential)\n",
        "fields = [\n",
        "    SimpleField(name=\"id\", type=SearchFieldDataType.String, key=True, sortable=True, filterable=True, facetable=True),\n",
        "    SearchableField(name=\"title\", type=SearchFieldDataType.String),\n",
        "    SearchableField(name=\"content\", type=SearchFieldDataType.String),\n",
        "    SearchableField(name=\"category\", type=SearchFieldDataType.String,\n",
        "                    filterable=True),\n",
        "    SearchField(name=\"titleVector\", type=SearchFieldDataType.Collection(SearchFieldDataType.Single),\n",
        "                searchable=True, vector_search_dimensions=1536, vector_search_configuration=\"azure-docs-vector-config\"),\n",
        "    SearchField(name=\"contentVector\", type=SearchFieldDataType.Collection(SearchFieldDataType.Single),\n",
        "                searchable=True, vector_search_dimensions=1536, vector_search_configuration=\"azure-docs-vector-config\"),\n",
        "]\n",
        "\n",
        "vector_search = VectorSearch(\n",
        "    algorithm_configurations=[\n",
        "        HnswVectorSearchAlgorithmConfiguration(\n",
        "            name=\"azure-docs-vector-config\",\n",
        "            kind=\"hnsw\",\n",
        "            parameters={\n",
        "                \"m\": 4,\n",
        "                \"efConstruction\": 400,\n",
        "                \"efSearch\": 500,\n",
        "                \"metric\": \"cosine\"\n",
        "            }\n",
        "        )\n",
        "    ]\n",
        ")\n",
        "\n",
        "semantic_config = SemanticConfiguration(\n",
        "    name=\"azure-docs-semantic-config\",\n",
        "    prioritized_fields=PrioritizedFields(\n",
        "        title_field=SemanticField(field_name=\"title\"),\n",
        "        prioritized_keywords_fields=[SemanticField(field_name=\"category\")],\n",
        "        prioritized_content_fields=[SemanticField(field_name=\"content\")]\n",
        "    )\n",
        ")\n",
        "\n",
        "# Create the semantic settings with the configuration\n",
        "semantic_settings = SemanticSettings(configurations=[semantic_config])\n",
        "\n",
        "# Create the search index with the semantic settings\n",
        "index = SearchIndex(name=AZSEARCH_INDEX_NAME, fields=fields,\n",
        "                    vector_search=vector_search, semantic_settings=semantic_settings)\n",
        "result = index_client.create_or_update_index(index)\n",
        "print(f' {result.name} created')"
      ]
    },
    {
      "cell_type": "markdown",
      "metadata": {
        "nteract": {
          "transient": {
            "deleting": false
          }
        }
      },
      "source": [
        "## Generate Embeddings\n",
        "\n",
        "Read your data, generate OpenAI embeddings and export to a format to insert into your Azure Cognitive Search index:"
      ]
    },
    {
      "cell_type": "code",
      "execution_count": 10,
      "metadata": {
        "gather": {
          "logged": 1693265280608
        },
        "jupyter": {
          "outputs_hidden": false,
          "source_hidden": false
        },
        "nteract": {
          "transient": {
            "deleting": false
          }
        }
      },
      "outputs": [],
      "source": [
        "# Generate Document Embeddings using OpenAI Ada 002\n",
        "\n",
        "@retry(wait=wait_random_exponential(min=1, max=20), stop=stop_after_attempt(6))\n",
        "# Function to generate embeddings for title and content fields, also used for query embeddings\n",
        "def generate_embeddings(text):\n",
        "    response = openai.Embedding.create(\n",
        "        input=text, engine=embeddings_model_deployment)\n",
        "    embeddings = response['data'][0]['embedding']\n",
        "    return embeddings\n"
      ]
    },
    {
      "cell_type": "code",
      "execution_count": 12,
      "metadata": {
        "gather": {
          "logged": 1693261650023
        },
        "jupyter": {
          "outputs_hidden": false,
          "source_hidden": false
        },
        "nteract": {
          "transient": {
            "deleting": false
          }
        }
      },
      "outputs": [],
      "source": [
        "# Read the text-sample.json\n",
        "with open('text-sample.json', 'r', encoding='utf-8') as file:\n",
        "    input_data = json.load(file)\n",
        "\n",
        "# Generate embeddings for title and content fields\n",
        "for item in input_data:\n",
        "    title = item['title']\n",
        "    content = item['content']\n",
        "    title_embeddings = generate_embeddings(title)\n",
        "    content_embeddings = generate_embeddings(content)\n",
        "    item['titleVector'] = title_embeddings\n",
        "    item['contentVector'] = content_embeddings\n",
        "\n",
        "# Output embeddings to json file\n",
        "with open(\"text-sample-vector.json\", \"w\") as f:\n",
        "    json.dump(input_data, f)"
      ]
    },
    {
      "cell_type": "markdown",
      "metadata": {
        "nteract": {
          "transient": {
            "deleting": false
          }
        }
      },
      "source": [
        "## Load Documents in Index\n",
        "\n",
        "Adds text and metadata from the JSON data to the vector store:"
      ]
    },
    {
      "cell_type": "code",
      "execution_count": 22,
      "metadata": {
        "gather": {
          "logged": 1693260993004
        },
        "jupyter": {
          "outputs_hidden": false,
          "source_hidden": false
        },
        "nteract": {
          "transient": {
            "deleting": false
          }
        }
      },
      "outputs": [
        {
          "name": "stdout",
          "output_type": "stream",
          "text": [
            "Uploaded 108 documents\n"
          ]
        }
      ],
      "source": [
        "# Upload some documents to the index\n",
        "with open('text-sample-vector.json', 'r') as file:  \n",
        "    documents = json.load(file)  \n",
        "search_client = SearchClient(endpoint=AZSEARCH_ENDPOINT, index_name=AZSEARCH_INDEX_NAME, credential=credential)\n",
        "result = search_client.upload_documents(documents)  \n",
        "print(f\"Uploaded {len(documents)} documents\") "
      ]
    },
    {
      "cell_type": "markdown",
      "metadata": {
        "nteract": {
          "transient": {
            "deleting": false
          }
        }
      },
      "source": [
        "## Test Queries"
      ]
    },
    {
      "cell_type": "code",
      "execution_count": 9,
      "metadata": {
        "gather": {
          "logged": 1693265283091
        },
        "jupyter": {
          "outputs_hidden": false,
          "source_hidden": false
        },
        "nteract": {
          "transient": {
            "deleting": false
          }
        }
      },
      "outputs": [
        {
          "name": "stdout",
          "output_type": "stream",
          "text": [
            "Title: Azure DevOps\n",
            "Score: 0.82971567\n",
            "Content: Azure DevOps is a suite of services that help you plan, build, and deploy applications. It includes Azure Boards for work item tracking, Azure Repos for source code management, Azure Pipelines for continuous integration and continuous deployment, Azure Test Plans for manual and automated testing, and Azure Artifacts for package management. DevOps supports a wide range of programming languages, frameworks, and platforms, making it easy to integrate with your existing development tools and processes. It also integrates with other Azure services, such as Azure App Service and Azure Functions.\n",
            "Category: Developer Tools\n",
            "\n",
            "Title: Azure DevTest Labs\n",
            "Score: 0.81866795\n",
            "Content: Azure DevTest Labs is a fully managed service that enables you to create, manage, and share development and test environments in Azure. It provides features like custom templates, cost management, and integration with Azure DevOps. DevTest Labs supports various platforms, such as Windows, Linux, and Kubernetes. You can use Azure DevTest Labs to improve your application development lifecycle, reduce your costs, and ensure the consistency of your environments. It also integrates with other Azure services, such as Azure Virtual Machines and Azure App Service.\n",
            "Category: Developer Tools\n",
            "\n",
            "Title: Azure Application Insights\n",
            "Score: 0.8022945\n",
            "Content: Azure Application Insights is an application performance management service that enables you to monitor, diagnose, and troubleshoot your applications and infrastructure. It provides features like real-time telemetry, dependency mapping, and live metrics. Application Insights supports various platforms, such as .NET, Java, Node.js, and Python. You can use Azure Application Insights to detect and diagnose issues, optimize your performance, and ensure the availability of your applications. It also integrates with other Azure services, such as Azure Monitor and Azure Log Analytics.\n",
            "Category: Management + Governance\n",
            "\n"
          ]
        }
      ],
      "source": [
        "# Pure Vector Search\n",
        "query = \"tools for software development\"  \n",
        "  \n",
        "search_client = SearchClient(AZSEARCH_ENDPOINT, AZSEARCH_INDEX_NAME, credential=credential)\n",
        "vector = Vector(value=generate_embeddings(query), k=3, fields=\"contentVector\")\n",
        "  \n",
        "results = search_client.search(  \n",
        "    search_text=None,  \n",
        "    vectors= [vector],\n",
        "    select=[\"title\", \"content\", \"category\"],\n",
        ")  \n",
        "  \n",
        "for result in results:  \n",
        "    print(f\"Title: {result['title']}\")  \n",
        "    print(f\"Score: {result['@search.score']}\")  \n",
        "    print(f\"Content: {result['content']}\")  \n",
        "    print(f\"Category: {result['category']}\\n\")  "
      ]
    },
    {
      "cell_type": "code",
      "execution_count": 10,
      "metadata": {
        "gather": {
          "logged": 1693265284802
        },
        "jupyter": {
          "outputs_hidden": false,
          "source_hidden": false
        },
        "nteract": {
          "transient": {
            "deleting": false
          }
        }
      },
      "outputs": [
        {
          "name": "stdout",
          "output_type": "stream",
          "text": [
            "Title: Azure DevOps\n",
            "Score: 0.80402035\n",
            "Content: Azure DevOps is a suite of services that help you plan, build, and deploy applications. It includes Azure Boards for work item tracking, Azure Repos for source code management, Azure Pipelines for continuous integration and continuous deployment, Azure Test Plans for manual and automated testing, and Azure Artifacts for package management. DevOps supports a wide range of programming languages, frameworks, and platforms, making it easy to integrate with your existing development tools and processes. It also integrates with other Azure services, such as Azure App Service and Azure Functions.\n",
            "Category: Developer Tools\n",
            "\n",
            "Title: Azure DevTest Labs\n",
            "Score: 0.79679435\n",
            "Content: Azure DevTest Labs is a fully managed service that enables you to create, manage, and share development and test environments in Azure. It provides features like custom templates, cost management, and integration with Azure DevOps. DevTest Labs supports various platforms, such as Windows, Linux, and Kubernetes. You can use Azure DevTest Labs to improve your application development lifecycle, reduce your costs, and ensure the consistency of your environments. It also integrates with other Azure services, such as Azure Virtual Machines and Azure App Service.\n",
            "Category: Developer Tools\n",
            "\n",
            "Title: Azure Mobile Apps\n",
            "Score: 0.795129\n",
            "Content: Azure Mobile Apps is a mobile app development platform that enables you to build, test, deploy, and monitor your mobile applications. It provides features like offline data sync, push notifications, and user authentication. Mobile Apps supports various platforms, including iOS, Android, and Windows. You can use Mobile Apps to build cross-platform applications, integrate with other Azure services, and improve your app development lifecycle. It also integrates with other Azure services, such as Azure Notification Hubs and Azure App Service.\n",
            "Category: Mobile\n",
            "\n"
          ]
        }
      ],
      "source": [
        "# Pure Vector Search multi-lingual (e.g 'tools for software development' in Dutch)  \n",
        "query = \"tools voor softwareontwikkeling\"  \n",
        "  \n",
        "search_client = SearchClient(AZSEARCH_ENDPOINT, AZSEARCH_INDEX_NAME, credential=credential)\n",
        "vector = Vector(value=generate_embeddings(query), k=3, fields=\"contentVector\")  \n",
        "  \n",
        "results = search_client.search(  \n",
        "    search_text=None,  \n",
        "    vectors=[vector],\n",
        "    select=[\"title\", \"content\", \"category\"],\n",
        ")  \n",
        "  \n",
        "for result in results:  \n",
        "    print(f\"Title: {result['title']}\")  \n",
        "    print(f\"Score: {result['@search.score']}\")  \n",
        "    print(f\"Content: {result['content']}\")  \n",
        "    print(f\"Category: {result['category']}\\n\")  "
      ]
    },
    {
      "cell_type": "code",
      "execution_count": 11,
      "metadata": {
        "gather": {
          "logged": 1693265285929
        },
        "jupyter": {
          "outputs_hidden": false,
          "source_hidden": false
        },
        "nteract": {
          "transient": {
            "deleting": false
          }
        }
      },
      "outputs": [
        {
          "name": "stdout",
          "output_type": "stream",
          "text": [
            "Title: Azure DevOps\n",
            "Score: 0.03333333507180214\n",
            "Content: Azure DevOps is a suite of services that help you plan, build, and deploy applications. It includes Azure Boards for work item tracking, Azure Repos for source code management, Azure Pipelines for continuous integration and continuous deployment, Azure Test Plans for manual and automated testing, and Azure Artifacts for package management. DevOps supports a wide range of programming languages, frameworks, and platforms, making it easy to integrate with your existing development tools and processes. It also integrates with other Azure services, such as Azure App Service and Azure Functions.\n",
            "Category: Developer Tools\n",
            "\n",
            "Title: Azure DevTest Labs\n",
            "Score: 0.032786883413791656\n",
            "Content: Azure DevTest Labs is a fully managed service that enables you to create, manage, and share development and test environments in Azure. It provides features like custom templates, cost management, and integration with Azure DevOps. DevTest Labs supports various platforms, such as Windows, Linux, and Kubernetes. You can use Azure DevTest Labs to improve your application development lifecycle, reduce your costs, and ensure the consistency of your environments. It also integrates with other Azure services, such as Azure Virtual Machines and Azure App Service.\n",
            "Category: Developer Tools\n",
            "\n",
            "Title: Azure Application Insights\n",
            "Score: 0.016129031777381897\n",
            "Content: Azure Application Insights is an application performance management service that enables you to monitor, diagnose, and troubleshoot your applications and infrastructure. It provides features like real-time telemetry, dependency mapping, and live metrics. Application Insights supports various platforms, such as .NET, Java, Node.js, and Python. You can use Azure Application Insights to detect and diagnose issues, optimize your performance, and ensure the availability of your applications. It also integrates with other Azure services, such as Azure Monitor and Azure Log Analytics.\n",
            "Category: Management + Governance\n",
            "\n",
            "Title: Azure Static Web Apps\n",
            "Score: 0.016129031777381897\n",
            "Content: Azure Static Web Apps is a serverless hosting service that enables you to build and deploy modern web applications using static front-end technologies and serverless APIs. It provides features like custom domains, SSL certificates, and integration with Azure Functions. Static Web Apps supports various frameworks, such as React, Angular, and Vue.js. You can use Azure Static Web Apps to build and deploy your web applications, ensure high performance and security, and simplify your development workflow. It also integrates with other Azure services, such as Azure App Service and Azure CDN.\n",
            "Category: Web\n",
            "\n"
          ]
        }
      ],
      "source": [
        "# Cross-Field Vector Search\n",
        "query = \"tools for software development\"  \n",
        "  \n",
        "search_client = SearchClient(AZSEARCH_ENDPOINT, AZSEARCH_INDEX_NAME, credential=credential)  \n",
        "vector = Vector(value=generate_embeddings(query), k=3, fields=\"titleVector, contentVector\")  \n",
        "  \n",
        "results = search_client.search(  \n",
        "    search_text=None,  \n",
        "    vectors=[vector],\n",
        "    select=[\"title\", \"content\", \"category\"],\n",
        ")  \n",
        "  \n",
        "for result in results:  \n",
        "    print(f\"Title: {result['title']}\")  \n",
        "    print(f\"Score: {result['@search.score']}\")  \n",
        "    print(f\"Content: {result['content']}\")  \n",
        "    print(f\"Category: {result['category']}\\n\")  "
      ]
    },
    {
      "cell_type": "code",
      "execution_count": 12,
      "metadata": {
        "gather": {
          "logged": 1693265286967
        },
        "jupyter": {
          "outputs_hidden": false,
          "source_hidden": false
        },
        "nteract": {
          "transient": {
            "deleting": false
          }
        }
      },
      "outputs": [
        {
          "name": "stdout",
          "output_type": "stream",
          "text": [
            "Title: Azure DevOps\n",
            "Score: 0.82971567\n",
            "Content: Azure DevOps is a suite of services that help you plan, build, and deploy applications. It includes Azure Boards for work item tracking, Azure Repos for source code management, Azure Pipelines for continuous integration and continuous deployment, Azure Test Plans for manual and automated testing, and Azure Artifacts for package management. DevOps supports a wide range of programming languages, frameworks, and platforms, making it easy to integrate with your existing development tools and processes. It also integrates with other Azure services, such as Azure App Service and Azure Functions.\n",
            "Category: Developer Tools\n",
            "\n",
            "Title: Azure DevTest Labs\n",
            "Score: 0.81866795\n",
            "Content: Azure DevTest Labs is a fully managed service that enables you to create, manage, and share development and test environments in Azure. It provides features like custom templates, cost management, and integration with Azure DevOps. DevTest Labs supports various platforms, such as Windows, Linux, and Kubernetes. You can use Azure DevTest Labs to improve your application development lifecycle, reduce your costs, and ensure the consistency of your environments. It also integrates with other Azure services, such as Azure Virtual Machines and Azure App Service.\n",
            "Category: Developer Tools\n",
            "\n"
          ]
        }
      ],
      "source": [
        "# Pure Vector Search with Filter\n",
        "query = \"tools for software development\"  \n",
        "  \n",
        "search_client = SearchClient(AZSEARCH_ENDPOINT, AZSEARCH_INDEX_NAME, credential=credential)  \n",
        "vector = Vector(value=generate_embeddings(query), k=3, fields=\"contentVector\")  \n",
        "\n",
        "results = search_client.search(  \n",
        "    search_text=None,  \n",
        "    vectors=[vector],\n",
        "    filter=\"category eq 'Developer Tools'\",\n",
        "    select=[\"title\", \"content\", \"category\"]\n",
        ")  \n",
        "  \n",
        "for result in results:  \n",
        "    print(f\"Title: {result['title']}\")  \n",
        "    print(f\"Score: {result['@search.score']}\")  \n",
        "    print(f\"Content: {result['content']}\")  \n",
        "    print(f\"Category: {result['category']}\\n\")  "
      ]
    },
    {
      "cell_type": "code",
      "execution_count": 13,
      "metadata": {
        "gather": {
          "logged": 1693265288865
        },
        "jupyter": {
          "outputs_hidden": false,
          "source_hidden": false
        },
        "nteract": {
          "transient": {
            "deleting": false
          }
        }
      },
      "outputs": [
        {
          "name": "stdout",
          "output_type": "stream",
          "text": [
            "Semantic Answer: Azure Cognitive Search is<em> a fully managed search-as-a-service that enables you to build rich search experiences for your applications.</em> It provides features like full-text search, faceted navigation, and filters. Azure Cognitive Search supports various data sources, such as Azure SQL Database, Azure Blob Storage, and Azure Cosmos DB.\n",
            "Semantic Answer Score: 0.9462890625\n",
            "\n",
            "Title: Azure Stack Edge\n",
            "Content: Azure Stack Edge is a managed, edge computing appliance that enables you to run Azure services and AI workloads on-premises or at the edge. It provides features like hardware-accelerated machine learning, local caching, and integration with Azure IoT Hub. Azure Stack Edge supports various Azure services, such as Azure Functions, Azure Machine Learning, and Azure Kubernetes Service. You can use Azure Stack Edge to build edge computing applications, optimize your data processing, and ensure the security and compliance of your workloads. It also integrates with other Azure services, such as Azure Monitor and Azure Stack Hub.\n",
            "Category: Hybrid\n",
            "Caption: Azure Stack Edge is a managed, edge computing appliance that enables you to run Azure services and AI workloads on-premises or at the edge. It provides features like hardware-accelerated machine learning, local caching, and integration with Azure IoT Hub.\n",
            "\n",
            "Title: Azure Security Center\n",
            "Content: Azure Security Center is a unified security management service that helps you protect your workloads and improve your security posture across your Azure resources and on-premises infrastructure. It provides features like continuous security assessments, threat protection, and security recommendations. Security Center supports various platforms, such as Windows, Linux, and Kubernetes. You can use Azure Security Center to detect and remediate threats, manage your security policies, and ensure compliance with industry regulations. It also integrates with other Azure services, such as Azure Monitor and Azure Log Analytics.\n",
            "Category: Security\n",
            "Caption: Azure Security Center is a unified security management service that helps you protect your workloads and improve your security posture across your Azure resources and on-premises infrastructure. It provides features like continuous security assessments, threat protection, and security recommendations.\n",
            "\n",
            "Title: Azure Databricks\n",
            "Content: Azure Databricks is an Apache Spark-based analytics platform optimized for the Azure cloud. It provides a collaborative workspace for data scientists, engineers, and business users to process, analyze, and visualize big data. Databricks supports multiple programming languages, including Python, Scala, R, and SQL. It offers built-in integration with Azure Blob Storage, Azure Data Lake Storage, and Azure Cosmos DB. You can also use Databricks to train and deploy machine learning models, and integrate with Azure Machine Learning.\n",
            "Category: Analytics\n",
            "Caption: Azure Databricks is an Apache Spark-based analytics platform optimized for the Azure cloud. It provides a collaborative workspace for data scientists, engineers, and business users to process, analyze, and visualize big data. Databricks supports multiple programming languages, including Python, Scala, R, and SQL.\n",
            "\n"
          ]
        }
      ],
      "source": [
        "# Semantic Hybrid Search\n",
        "query = \"what is azure sarch?\"\n",
        "\n",
        "search_client = SearchClient(AZSEARCH_ENDPOINT, AZSEARCH_INDEX_NAME, credential=credential)\n",
        "vector = Vector(value=generate_embeddings(query), k=3, fields=\"contentVector\")  \n",
        "\n",
        "results = search_client.search(  \n",
        "    search_text=query,  \n",
        "    vectors=[vector],\n",
        "    select=[\"title\", \"content\", \"category\"],\n",
        "    query_type=\"semantic\", query_language=\"en-us\", semantic_configuration_name='azure-docs-semantic-config', query_caption=\"extractive\", query_answer=\"extractive\",\n",
        "    top=3\n",
        ")\n",
        "\n",
        "semantic_answers = results.get_answers()\n",
        "for answer in semantic_answers:\n",
        "    if answer.highlights:\n",
        "        print(f\"Semantic Answer: {answer.highlights}\")\n",
        "    else:\n",
        "        print(f\"Semantic Answer: {answer.text}\")\n",
        "    print(f\"Semantic Answer Score: {answer.score}\\n\")\n",
        "\n",
        "for result in results:\n",
        "    print(f\"Title: {result['title']}\")\n",
        "    print(f\"Content: {result['content']}\")\n",
        "    print(f\"Category: {result['category']}\")\n",
        "\n",
        "    captions = result[\"@search.captions\"]\n",
        "    if captions:\n",
        "        caption = captions[0]\n",
        "        if caption.highlights:\n",
        "            print(f\"Caption: {caption.highlights}\\n\")\n",
        "        else:\n",
        "            print(f\"Caption: {caption.text}\\n\")"
      ]
    },
    {
      "cell_type": "code",
      "execution_count": null,
      "metadata": {
        "jupyter": {
          "outputs_hidden": false,
          "source_hidden": false
        },
        "nteract": {
          "transient": {
            "deleting": false
          }
        }
      },
      "outputs": [],
      "source": []
    }
  ],
  "metadata": {
    "kernel_info": {
      "name": "python38-azureml"
    },
    "kernelspec": {
      "display_name": "aoai_stuff",
      "language": "python",
      "name": "python3"
    },
    "language_info": {
      "codemirror_mode": {
        "name": "ipython",
        "version": 3
      },
      "file_extension": ".py",
      "mimetype": "text/x-python",
      "name": "python",
      "nbconvert_exporter": "python",
      "pygments_lexer": "ipython3",
      "version": "3.11.3"
    },
    "microsoft": {
      "host": {
        "AzureML": {
          "notebookHasBeenCompleted": true
        }
      },
      "ms_spell_check": {
        "ms_spell_check_language": "en"
      }
    },
    "nteract": {
      "version": "nteract-front-end@1.0.0"
    }
  },
  "nbformat": 4,
  "nbformat_minor": 2
}
